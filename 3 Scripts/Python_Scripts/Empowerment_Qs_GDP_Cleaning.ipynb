{
 "cells": [
  {
   "attachments": {},
   "cell_type": "markdown",
   "metadata": {},
   "source": [
    "# data analysis for paid child leave, gdp growth, Data cost\n",
    "- # women empowerment index data (df)\n",
    "- for 190 countries over 50 years, 1971-2020. \n",
    "- There are 35 yes or no questions asked each year in 8 categories:\n",
    "[Assets\n",
    "Entrepreneurship\n",
    "Marriage\n",
    "Mobility\n",
    "Parenthood\n",
    "Pay\n",
    "Pension\n",
    "Workplace]\n",
    "\n",
    "- (yes) answers are worth either 20 or 25 points\n",
    "- no country experiences negative growth in the index over 50 years\n",
    "- data can be found here:\n",
    "https://data.world/makeovermonday/2020w26\n",
    "\n",
    "\n",
    "- # gdp growth data (gdp)\n",
    "- for 266 countries over ~60 years\n",
    "- The YoY growth is on a relative basis\n",
    "- Data should be reduced to 190 Countries for ease of comparison\n",
    "- data can be found here:\n",
    "https://www.kaggle.com/datasets/zackerym/gdp-annual-growth-for-each-country-1960-2020?select=GDP_annual_growth.csv\n",
    "\n",
    "- # data cost (gig) \n",
    "- Data for average cost per gigabyte in 2020\n",
    "- in USD\n",
    "- dataset can be found here:\n",
    "https://data.world/makeovermonday/2021w19\n",
    "\n",
    "- # gapminder data (gapminder)\n",
    "- population, life expectancy data, gdp per cap\n",
    "- data available through plotly:\n",
    "-\n",
    "(import plotly.express as px\n",
    "\n",
    "#get country health, population, gdpPercap data from gapminder through plotly\n",
    "df2 = px.data.gapminder().query('year > 1971')\n",
    "gap = df2[['country', 'year', 'lifeExp', 'pop', 'gdpPercap']].copy().reset_index(drop=True)\n",
    "gap['country'].unique().tolist()\n",
    "#gap.to_csv('/Users/amritambe/Desktop/Analysis_Project/Women_Empowerment/2 Data/Gapminder/gapminder_pop_data.csv', index=False)\n",
    ")\n"
   ]
  },
  {
   "cell_type": "code",
   "execution_count": 2,
   "metadata": {},
   "outputs": [
    {
     "name": "stdout",
     "output_type": "stream",
     "text": [
      "The dataframes are of shapes: \n",
      "df (paid leave Qs):(28500, 4), \n",
      "df1 (50 years change):(190, 4), \n",
      "df2 (All Qs): (332500, 7), \n",
      "gig (cost of data): (155, 3), \n",
      "gdp (gdp data): (266, 66), \n",
      "gapminder (pop data): (1136, 5)\n"
     ]
    }
   ],
   "source": [
    "import pandas as pd\n",
    "import numpy as np\n",
    "import os\n",
    "\n",
    "path = r'/Users/amritambe/Desktop/Analysis_Project/Women_Empowerment/2 Data'\n",
    "\n",
    "#read in paid child leave data\n",
    "df = pd.read_csv(os.path.join(path, 'Empowerment_Index', 'paid_leave_qs.csv'))\n",
    "df1 = pd.read_csv(os.path.join(path, 'Empowerment_Index', 'Country_50y_change.csv'))\n",
    "df2 = pd.read_csv(os.path.join(path, 'Empowerment_Index', 'All_Qs.csv'))\n",
    "\n",
    "#read in gdp data\n",
    "gdp = pd.read_csv(os.path.join(path, 'GDP_Growth', 'GDP_annual_growth_NEW.csv'))\n",
    "\n",
    "#read in data cost df\n",
    "gig = pd.read_csv(os.path.join(path, 'Technology', 'Gb_Cost_World.csv'))\n",
    "\n",
    "#read in gapminder data\n",
    "gapminder = pd.read_csv(os.path.join(path, 'Gapminder', 'gapminder_pop_data.csv'))\n",
    "\n",
    "\n",
    "#print checks\n",
    "print(f'The dataframes are of shapes: \\n\\\n",
    "df (paid leave Qs):{df.shape}, \\n\\\n",
    "df1 (50 years change):{df1.shape}, \\n\\\n",
    "df2 (All Qs): {df2.shape}, \\n\\\n",
    "gig (cost of data): {gig.shape}, \\n\\\n",
    "gdp (gdp data): {gdp.shape}, \\n\\\n",
    "gapminder (pop data): {gapminder.shape}')"
   ]
  },
  {
   "attachments": {},
   "cell_type": "markdown",
   "metadata": {},
   "source": [
    "\n",
    "\n",
    "\n",
    "\n",
    "# transforming gdp\n",
    "firstly, gdp needs transformed because each year has its own column. \n",
    "we need each country to have muliple years, and have one column for all years."
   ]
  },
  {
   "cell_type": "code",
   "execution_count": 3,
   "metadata": {},
   "outputs": [
    {
     "name": "stdout",
     "output_type": "stream",
     "text": [
      "Eliminated 2926 rows of data before 1971, GDP data has shape: (13566, 6)\n",
      "0 countries were deleted, resulting in 0 fewer rows. GDP data has shape: (13566, 6)\n",
      "61.93% of 51 total years saw growth over 1%\n",
      "12.91% of years saw negative gdp growth\n"
     ]
    }
   ],
   "source": [
    "#the gdp dataset needs to be transformed in order to be similar to the parental leave data\n",
    "#pd.set_option('display.max_rows', None)\n",
    "\n",
    "#gdp.isnull().sum()\n",
    "\n",
    "#gdp.columns.tolist()\n",
    "\n",
    "''' pd.melt()\n",
    "use pd.melt(df, id_vars=variables to keep intact, \n",
    "                var_name=variables to melt, \n",
    "                value_name=what is melted value to be named)\n",
    "'''\n",
    "\n",
    "melted_gdp = pd.melt(gdp, \n",
    "                    id_vars=['Country Name', 'Country Code',  'Indicator Name', 'Indicator Code'],\n",
    "                    var_name='Year', \n",
    "                    value_name='GDP Growth')\n",
    "\n",
    "#sort\n",
    "sorted_gdp = melted_gdp.sort_values(by=['Country Name', 'Year'], ascending=[True, True])\n",
    "\n",
    "#df and df1 start at 1971, so gdp should start at 71 as well\n",
    "gdp_clean = sorted_gdp.query('Year >= \"1971\"').copy()\n",
    "\n",
    "#check\n",
    "print(f'Eliminated {sorted_gdp.shape[0]-gdp_clean.shape[0]} rows of data before 1971, GDP data has shape: {gdp_clean.shape}')\n",
    "\n",
    "\n",
    "#change columns to replace spaces with underscores\n",
    "gdp_clean.columns = ['Country_Name', 'Country_Code', 'Indicator_Name', 'Indicator_Code',\n",
    "       'Year', 'GDP_Growth']\n",
    "\n",
    "gdp_clean.columns\n",
    "\n",
    "#check gdp_clean for null values\n",
    "null_gdp = gdp_clean.groupby('Country_Name')['GDP_Growth'] \\\n",
    "    .apply(lambda x: x.isnull() \\\n",
    "        .sum()) \\\n",
    "            .reset_index() \\\n",
    "                .sort_values(by='GDP_Growth', ascending=False)\n",
    "\n",
    "#rename columns\n",
    "null_gdp.columns = ['Country_Name', 'GDP_Nulls']\n",
    "\n",
    "#get list of all Countries with n+ NULLs for GDP growth.\n",
    "#there are 266 countries, 50 years of data. \n",
    "\n",
    "n = 100\n",
    "\n",
    "null_countries = null_gdp.query('GDP_Nulls >= @n')['Country_Name'].copy().tolist()\n",
    "\n",
    "#delete high null countries\n",
    "gdp_cleaned = gdp_clean.query('Country_Name not in @null_countries')\n",
    "\n",
    "\n",
    "# PRINT CHECKS\n",
    "print(f'{len(null_countries)} countries were deleted, resulting in {gdp_clean.shape[0]-gdp_cleaned.shape[0]} fewer rows. GDP data has shape: {gdp_cleaned.shape}')\n",
    "#check percentage of years > 1% gdp growth\n",
    "print(f\"{(gdp_cleaned.query('GDP_Growth > 1').sort_values(by=['GDP_Growth'], ascending=[False]).shape[0] / gdp_cleaned.shape[0] * 100) :0.2f}% of {gdp_cleaned['Year'].nunique()} total years saw growth over 1%\")\n",
    "#check number of years with negative gdp growth\n",
    "print(f\"{gdp_cleaned.query('GDP_Growth < 0').shape[0] / gdp_cleaned.shape[0] * 100:0.2f}% of years saw negative gdp growth\")"
   ]
  },
  {
   "attachments": {},
   "cell_type": "markdown",
   "metadata": {},
   "source": [
    "\n",
    "# explore datasets and change column names"
   ]
  },
  {
   "cell_type": "code",
   "execution_count": 5,
   "metadata": {},
   "outputs": [
    {
     "data": {
      "text/plain": [
       "['Country_Name', 'Year', 'LifeExp', 'Population', 'GDP_Per_Cap']"
      ]
     },
     "execution_count": 5,
     "metadata": {},
     "output_type": "execute_result"
    }
   ],
   "source": [
    "gapminder.columns = ['Country_Name', 'Year', 'LifeExp', 'Population', 'GDP_Per_Cap']\n",
    "gapminder.columns.tolist()"
   ]
  },
  {
   "cell_type": "code",
   "execution_count": 6,
   "metadata": {},
   "outputs": [
    {
     "name": "stdout",
     "output_type": "stream",
     "text": [
      "df # of countries: 190\n",
      "df1 # of countries: 190\n",
      "df2 # of countries: 190\n",
      "gig # of countries: 155 \n",
      "gdp_cleaned # of countries: 266\n",
      "gapminder # of countries: 142\n",
      "df and df1 Countries are exactly the same: False\n"
     ]
    }
   ],
   "source": [
    "#check df, change column names for paid leave dataframes\n",
    "\n",
    "df.columns = ['Country_Name', 'Year', 'Questions', 'Score']\n",
    "\n",
    "df1.columns = ['Country_Name', 'Index_1971', 'Index_2020', 'Fifty_Year_Change']\n",
    "\n",
    "df2.columns = ['Country_Name',\n",
    "  'Region',\n",
    "  'Income_group',\n",
    "  'Year',\n",
    "  'Question_Category',\n",
    "  'Question',\n",
    "  'Score']\n",
    "\n",
    "gapminder.columns = ['Country_Name', 'Year', 'LifeExp', 'Population', 'GDP_Per_Cap']\n",
    "\n",
    "# Mobile data cost\n",
    "#check gig.columns\n",
    "gig.columns = ['Rank', 'Country_Name', '1GB_Price_Usd']\n",
    "gig.columns\n",
    "\n",
    "df.columns, df1.columns, df2.columns\n",
    "\n",
    "#df.isnull().sum(), df1.isnull().sum()\n",
    "\n",
    "\n",
    "#check number of countries in all 3 df\n",
    "print(f\"df # of countries: {df['Country_Name'].nunique()}\\n\\\n",
    "df1 # of countries: {df1['Country_Name'].nunique()}\\n\\\n",
    "df2 # of countries: {df2['Country_Name'].nunique()}\\n\\\n",
    "gig # of countries: {gig['Country_Name'].nunique()} \\n\\\n",
    "gdp_cleaned # of countries: {gdp_cleaned['Country_Name'].nunique()}\\n\\\n",
    "gapminder # of countries: {gapminder['Country_Name'].nunique()}\")\n",
    "\n",
    "# #check df and df1 are same\n",
    "print(f\"df and df1 Countries are exactly the same: {df['Country_Name'].unique().tolist() == df1['Country_Name'].unique().tolist()}\")\n",
    "\n"
   ]
  },
  {
   "attachments": {},
   "cell_type": "markdown",
   "metadata": {},
   "source": [
    "# explore difference between Country Name data"
   ]
  },
  {
   "cell_type": "code",
   "execution_count": 22,
   "metadata": {},
   "outputs": [],
   "source": [
    "#make lists to analyze country names \n",
    "df_c = df['Country_Name'].unique().tolist()\n",
    "df1_c = df1['Country_Name'].unique().tolist()\n",
    "df2_c = df2['Country_Name'].unique().tolist()\n",
    "gig_c = gig['Country_Name'].unique().tolist()\n",
    "gdp_c = gdp_cleaned['Country_Name'].unique().tolist()\n",
    "gap_c = gapminder['Country_Name'].unique().tolist()"
   ]
  },
  {
   "cell_type": "code",
   "execution_count": 69,
   "metadata": {},
   "outputs": [],
   "source": [
    "def find_mismatched_countries(list1, list2):\n",
    "    common_countries = [country for country in list1 if country in list2]\n",
    "    print(f'There are {len(common_countries)} common countries between list1({len(list1)}) and list2({len(list2)}).')\n",
    "\n",
    "    set1 = set(list1)\n",
    "    set2 = set(list2)\n",
    "\n",
    "    different_countries = set1 - set2\n",
    "    list_different = list(different_countries)\n",
    "\n",
    "    print(f'There are {len(different_countries)} mismatched countries:')\n",
    "    return list_different\n"
   ]
  },
  {
   "cell_type": "markdown",
   "metadata": {},
   "source": [
    "# WE Index data"
   ]
  },
  {
   "cell_type": "code",
   "execution_count": 70,
   "metadata": {},
   "outputs": [
    {
     "name": "stdout",
     "output_type": "stream",
     "text": [
      "There are 190 common countries between list1(190) and list2(190).\n",
      "There are 0 mismatched countries:\n",
      "\n",
      "The first false must be because of whitespace or capitalization. these should work as-is in tableau for visualizations.\n"
     ]
    }
   ],
   "source": [
    "#use a list comprehension to find common countries\n",
    "find_mismatched_countries(df_c, df1_c)\n",
    "print('\\nThe first false must be because of whitespace or capitalization. these should work as-is in tableau for visualizations.')"
   ]
  },
  {
   "attachments": {},
   "cell_type": "markdown",
   "metadata": {},
   "source": [
    "# data cost "
   ]
  },
  {
   "cell_type": "code",
   "execution_count": 71,
   "metadata": {
    "scrolled": true
   },
   "outputs": [
    {
     "name": "stdout",
     "output_type": "stream",
     "text": [
      "There are 136 common countries between list1(155) and list2(190).\n",
      "There are 19 mismatched countries:\n"
     ]
    },
    {
     "data": {
      "text/plain": [
       "['Taiwan',\n",
       " 'Slovakia',\n",
       " 'Puerto Rico',\n",
       " 'Yemen',\n",
       " 'Syria',\n",
       " 'Western Sahara',\n",
       " 'Turkmenistan',\n",
       " 'Congo',\n",
       " 'Cuba',\n",
       " \"Côte d'Ivoire\",\n",
       " 'Macedonia',\n",
       " 'Palestine',\n",
       " 'Hong Kong',\n",
       " 'Iran',\n",
       " 'Monaco',\n",
       " 'Egypt',\n",
       " 'Gambia',\n",
       " 'South Korea',\n",
       " 'Kyrgyzstan']"
      ]
     },
     "execution_count": 71,
     "metadata": {},
     "output_type": "execute_result"
    }
   ],
   "source": [
    "# identify which countries dont match from the gig dataframe and the rest\n",
    "find_mismatched_countries(gig_c, df1_c)"
   ]
  },
  {
   "cell_type": "code",
   "execution_count": 73,
   "metadata": {},
   "outputs": [
    {
     "data": {
      "text/html": [
       "<div>\n",
       "<style scoped>\n",
       "    .dataframe tbody tr th:only-of-type {\n",
       "        vertical-align: middle;\n",
       "    }\n",
       "\n",
       "    .dataframe tbody tr th {\n",
       "        vertical-align: top;\n",
       "    }\n",
       "\n",
       "    .dataframe thead th {\n",
       "        text-align: right;\n",
       "    }\n",
       "</style>\n",
       "<table border=\"1\" class=\"dataframe\">\n",
       "  <thead>\n",
       "    <tr style=\"text-align: right;\">\n",
       "      <th></th>\n",
       "      <th>Country_Name</th>\n",
       "      <th>Index_1971</th>\n",
       "      <th>Index_2020</th>\n",
       "      <th>Fifty_Year_Change</th>\n",
       "    </tr>\n",
       "  </thead>\n",
       "  <tbody>\n",
       "    <tr>\n",
       "      <th>152</th>\n",
       "      <td>Egypt, Arab Rep.</td>\n",
       "      <td>235</td>\n",
       "      <td>360</td>\n",
       "      <td>125</td>\n",
       "    </tr>\n",
       "  </tbody>\n",
       "</table>\n",
       "</div>"
      ],
      "text/plain": [
       "         Country_Name  Index_1971  Index_2020  Fifty_Year_Change\n",
       "152  Egypt, Arab Rep.         235         360                125"
      ]
     },
     "execution_count": 73,
     "metadata": {},
     "output_type": "execute_result"
    }
   ],
   "source": [
    "df1.query('Country_Name.str.contains(\"Egy\")')"
   ]
  },
  {
   "cell_type": "markdown",
   "metadata": {},
   "source": [
    "# gdp data"
   ]
  },
  {
   "cell_type": "code",
   "execution_count": 41,
   "metadata": {
    "scrolled": true
   },
   "outputs": [
    {
     "name": "stdout",
     "output_type": "stream",
     "text": [
      "There are 187 common countries between list1(266) and list2(190).\n",
      "There are 79 mismatched countries:\n"
     ]
    },
    {
     "data": {
      "text/plain": [
       "['IDA total',\n",
       " 'Macao SAR, China',\n",
       " 'Turks and Caicos Islands',\n",
       " 'Latin America & the Caribbean (IDA & IBRD countries)',\n",
       " 'Puerto Rico',\n",
       " 'New Caledonia',\n",
       " 'Sub-Saharan Africa (IDA & IBRD countries)',\n",
       " 'Small states',\n",
       " 'Gibraltar',\n",
       " 'Early-demographic dividend',\n",
       " 'Greenland',\n",
       " 'Nauru',\n",
       " 'North America',\n",
       " 'Middle East & North Africa (excluding high income)',\n",
       " 'Aruba',\n",
       " 'Central Europe and the Baltics',\n",
       " 'Andorra',\n",
       " 'Post-demographic dividend',\n",
       " 'High income',\n",
       " 'Lower middle income',\n",
       " 'Pacific island small states',\n",
       " 'Bermuda',\n",
       " 'Fragile and conflict affected situations',\n",
       " 'French Polynesia',\n",
       " 'Upper middle income',\n",
       " 'European Union',\n",
       " 'Cayman Islands',\n",
       " 'OECD members',\n",
       " 'Guam',\n",
       " 'Latin America & Caribbean',\n",
       " 'Isle of Man',\n",
       " \"Cote d'Ivoire\",\n",
       " 'World',\n",
       " 'Turkmenistan',\n",
       " 'Cuba',\n",
       " 'Caribbean small states',\n",
       " 'South Asia (IDA & IBRD)',\n",
       " 'Faroe Islands',\n",
       " 'Sub-Saharan Africa (excluding high income)',\n",
       " 'Middle East & North Africa (IDA & IBRD countries)',\n",
       " 'Northern Mariana Islands',\n",
       " 'Other small states',\n",
       " 'Least developed countries: UN classification',\n",
       " 'IDA only',\n",
       " \"Korea, Dem. People's Rep.\",\n",
       " 'Arab World',\n",
       " 'Sint Maarten (Dutch part)',\n",
       " 'Europe & Central Asia (IDA & IBRD countries)',\n",
       " 'Late-demographic dividend',\n",
       " 'Liechtenstein',\n",
       " 'IBRD only',\n",
       " 'Virgin Islands (U.S.)',\n",
       " 'Europe & Central Asia (excluding high income)',\n",
       " 'Middle East & North Africa',\n",
       " 'South Asia',\n",
       " 'Latin America & Caribbean (excluding high income)',\n",
       " 'Tuvalu',\n",
       " 'Euro area',\n",
       " 'Africa Western and Central',\n",
       " 'Channel Islands',\n",
       " 'Heavily indebted poor countries (HIPC)',\n",
       " 'East Asia & Pacific (excluding high income)',\n",
       " 'IDA & IBRD total',\n",
       " 'Low income',\n",
       " 'Curacao',\n",
       " 'British Virgin Islands',\n",
       " 'Middle income',\n",
       " 'East Asia & Pacific',\n",
       " 'East Asia & Pacific (IDA & IBRD countries)',\n",
       " 'Europe & Central Asia',\n",
       " 'IDA blend',\n",
       " 'Not classified',\n",
       " 'Sub-Saharan Africa',\n",
       " 'American Samoa',\n",
       " 'Monaco',\n",
       " 'St. Martin (French part)',\n",
       " 'Africa Eastern and Southern',\n",
       " 'Pre-demographic dividend',\n",
       " 'Low & middle income']"
      ]
     },
     "execution_count": 41,
     "metadata": {},
     "output_type": "execute_result"
    }
   ],
   "source": [
    "#use a list comprehension to find common countries for gdp_cleaned\n",
    "find_mismatched_countries(gdp_c, df1_c)"
   ]
  },
  {
   "cell_type": "markdown",
   "metadata": {},
   "source": [
    "# gapminder data"
   ]
  },
  {
   "cell_type": "code",
   "execution_count": 42,
   "metadata": {},
   "outputs": [
    {
     "name": "stdout",
     "output_type": "stream",
     "text": [
      "There are 129 common countries between list1(142) and list2(190).\n",
      "There are 13 mismatched countries:\n"
     ]
    },
    {
     "data": {
      "text/plain": [
       "['Korea, Dem. Rep.',\n",
       " \"Cote d'Ivoire\",\n",
       " 'Iran',\n",
       " 'Swaziland',\n",
       " 'Taiwan',\n",
       " 'Venezuela',\n",
       " 'Egypt',\n",
       " 'Reunion',\n",
       " 'Puerto Rico',\n",
       " 'Cuba',\n",
       " 'Gambia',\n",
       " 'Hong Kong, China',\n",
       " 'Syria']"
      ]
     },
     "execution_count": 42,
     "metadata": {},
     "output_type": "execute_result"
    }
   ],
   "source": [
    "#check countries between gap and df2\n",
    "find_mismatched_countries(gap_c, df2_c)"
   ]
  },
  {
   "cell_type": "code",
   "execution_count": 43,
   "metadata": {},
   "outputs": [],
   "source": [
    "#PUERTO RICO (U.S)\n",
    "#change df, df1, df2 to 'Puerto Rico'\n",
    "# df['Country_Name'] = df['Country_Name'].replace({'Puerto Rico (U.S.)':'Puerto Rico'})\n",
    "# df1['Country_Name'] = df1['Country_Name'].replace({'Puerto Rico (U.S.)':'Puerto Rico'})\n",
    "# df2['Country_Name'] = df2['Country_Name'].replace({'Puerto Rico (U.S.)':'Puerto Rico'})\n",
    "\n",
    "#df2.query('Country_Name.str.contains(\"Puerto Rico\")').head()\n",
    "\n",
    "\n",
    "#COTE D'IVOIRE\n",
    "#change Cote d'Ivoire\tto ivory coast\n",
    "#gdp_cleaned['Country_Name'] = gdp_cleaned['Country_Name'].replace({\"Cote d'Ivoire\":\"Ivory Coast\"})\n",
    "\n",
    "# export cleaned data\n"
   ]
  },
  {
   "cell_type": "code",
   "execution_count": 45,
   "metadata": {},
   "outputs": [
    {
     "data": {
      "text/plain": [
       "Index(['Country_Name', 'Year', 'GDP_Growth'], dtype='object')"
      ]
     },
     "execution_count": 45,
     "metadata": {},
     "output_type": "execute_result"
    }
   ],
   "source": [
    "# df2 = df2.drop(columns='index', axis=1)\n",
    "gdp_cleaned = gdp_cleaned.drop(columns=['Country_Code', 'Indicator_Name', 'Indicator_Code'], axis=1)\n",
    "gdp_cleaned.columns"
   ]
  },
  {
   "cell_type": "code",
   "execution_count": 47,
   "metadata": {},
   "outputs": [
    {
     "data": {
      "text/plain": [
       "((13566, 3), (28500, 4), (190, 4), (332500, 7), (155, 3), (1136, 5))"
      ]
     },
     "execution_count": 47,
     "metadata": {},
     "output_type": "execute_result"
    }
   ],
   "source": [
    "gdp_cleaned.shape, df.shape, df1.shape, df2.shape, gig.shape, gapminder.shape"
   ]
  },
  {
   "cell_type": "markdown",
   "metadata": {},
   "source": [
    "# Merging "
   ]
  },
  {
   "cell_type": "code",
   "execution_count": 53,
   "metadata": {},
   "outputs": [],
   "source": [
    "gdp_cleaned = gdp_cleaned[gdp_cleaned['Year'] != \"Unnamed: 65\"].copy()\n",
    "gdp_cleaned['Year'] = gdp_cleaned['Year'].astype('int')"
   ]
  },
  {
   "cell_type": "code",
   "execution_count": 63,
   "metadata": {},
   "outputs": [
    {
     "data": {
      "text/plain": [
       "(1001545, 18)"
      ]
     },
     "execution_count": 63,
     "metadata": {},
     "output_type": "execute_result"
    }
   ],
   "source": [
    "merged_df = pd.merge(gdp_cleaned, df, on=['Country_Name', 'Year'], how='outer')\n",
    "merged_df = pd.merge(merged_df, df1, on=['Country_Name'], how='outer')\n",
    "merged_df = pd.merge(merged_df, df2, on=['Country_Name', 'Year'], how='outer')\n",
    "merged_df = pd.merge(merged_df, gig, on=['Country_Name'], how='outer')\n",
    "merged_df = pd.merge(merged_df, gapminder, on=['Country_Name', 'Year'], how='outer')\n",
    "merged_df.reset_index(drop=True)\n",
    "merged_df.shape"
   ]
  },
  {
   "cell_type": "code",
   "execution_count": 74,
   "metadata": {},
   "outputs": [
    {
     "data": {
      "text/html": [
       "<div>\n",
       "<style scoped>\n",
       "    .dataframe tbody tr th:only-of-type {\n",
       "        vertical-align: middle;\n",
       "    }\n",
       "\n",
       "    .dataframe tbody tr th {\n",
       "        vertical-align: top;\n",
       "    }\n",
       "\n",
       "    .dataframe thead th {\n",
       "        text-align: right;\n",
       "    }\n",
       "</style>\n",
       "<table border=\"1\" class=\"dataframe\">\n",
       "  <thead>\n",
       "    <tr style=\"text-align: right;\">\n",
       "      <th></th>\n",
       "      <th>Country_Name</th>\n",
       "      <th>Year</th>\n",
       "      <th>GDP_Growth</th>\n",
       "      <th>Index_1971</th>\n",
       "      <th>Index_2020</th>\n",
       "      <th>Fifty_Year_Change</th>\n",
       "      <th>Region</th>\n",
       "      <th>Income_group</th>\n",
       "      <th>Question_Category</th>\n",
       "      <th>Question</th>\n",
       "      <th>Score_y</th>\n",
       "      <th>Rank</th>\n",
       "      <th>1GB_Price_Usd</th>\n",
       "      <th>LifeExp</th>\n",
       "      <th>Population</th>\n",
       "      <th>GDP_Per_Cap</th>\n",
       "    </tr>\n",
       "  </thead>\n",
       "  <tbody>\n",
       "    <tr>\n",
       "      <th>0</th>\n",
       "      <td>Afghanistan</td>\n",
       "      <td>1971.0</td>\n",
       "      <td>NaN</td>\n",
       "      <td>210.0</td>\n",
       "      <td>305.0</td>\n",
       "      <td>95.0</td>\n",
       "      <td>South Asia</td>\n",
       "      <td>Low income</td>\n",
       "      <td>Assets</td>\n",
       "      <td>Do female and male surviving spouses have equa...</td>\n",
       "      <td>0.0</td>\n",
       "      <td>59.0</td>\n",
       "      <td>1.55</td>\n",
       "      <td>NaN</td>\n",
       "      <td>NaN</td>\n",
       "      <td>NaN</td>\n",
       "    </tr>\n",
       "    <tr>\n",
       "      <th>1</th>\n",
       "      <td>Afghanistan</td>\n",
       "      <td>1971.0</td>\n",
       "      <td>NaN</td>\n",
       "      <td>210.0</td>\n",
       "      <td>305.0</td>\n",
       "      <td>95.0</td>\n",
       "      <td>South Asia</td>\n",
       "      <td>Low income</td>\n",
       "      <td>Assets</td>\n",
       "      <td>Do men and women have equal ownership rights t...</td>\n",
       "      <td>20.0</td>\n",
       "      <td>59.0</td>\n",
       "      <td>1.55</td>\n",
       "      <td>NaN</td>\n",
       "      <td>NaN</td>\n",
       "      <td>NaN</td>\n",
       "    </tr>\n",
       "    <tr>\n",
       "      <th>2</th>\n",
       "      <td>Afghanistan</td>\n",
       "      <td>1971.0</td>\n",
       "      <td>NaN</td>\n",
       "      <td>210.0</td>\n",
       "      <td>305.0</td>\n",
       "      <td>95.0</td>\n",
       "      <td>South Asia</td>\n",
       "      <td>Low income</td>\n",
       "      <td>Assets</td>\n",
       "      <td>Do sons and daughters have equal rights to inh...</td>\n",
       "      <td>0.0</td>\n",
       "      <td>59.0</td>\n",
       "      <td>1.55</td>\n",
       "      <td>NaN</td>\n",
       "      <td>NaN</td>\n",
       "      <td>NaN</td>\n",
       "    </tr>\n",
       "    <tr>\n",
       "      <th>3</th>\n",
       "      <td>Afghanistan</td>\n",
       "      <td>1971.0</td>\n",
       "      <td>NaN</td>\n",
       "      <td>210.0</td>\n",
       "      <td>305.0</td>\n",
       "      <td>95.0</td>\n",
       "      <td>South Asia</td>\n",
       "      <td>Low income</td>\n",
       "      <td>Assets</td>\n",
       "      <td>Does the law grant spouses equal administrativ...</td>\n",
       "      <td>20.0</td>\n",
       "      <td>59.0</td>\n",
       "      <td>1.55</td>\n",
       "      <td>NaN</td>\n",
       "      <td>NaN</td>\n",
       "      <td>NaN</td>\n",
       "    </tr>\n",
       "    <tr>\n",
       "      <th>4</th>\n",
       "      <td>Afghanistan</td>\n",
       "      <td>1971.0</td>\n",
       "      <td>NaN</td>\n",
       "      <td>210.0</td>\n",
       "      <td>305.0</td>\n",
       "      <td>95.0</td>\n",
       "      <td>South Asia</td>\n",
       "      <td>Low income</td>\n",
       "      <td>Assets</td>\n",
       "      <td>Does the law provide for the valuation of nonm...</td>\n",
       "      <td>0.0</td>\n",
       "      <td>59.0</td>\n",
       "      <td>1.55</td>\n",
       "      <td>NaN</td>\n",
       "      <td>NaN</td>\n",
       "      <td>NaN</td>\n",
       "    </tr>\n",
       "  </tbody>\n",
       "</table>\n",
       "</div>"
      ],
      "text/plain": [
       "  Country_Name    Year  GDP_Growth  Index_1971  Index_2020  Fifty_Year_Change  \\\n",
       "0  Afghanistan  1971.0         NaN       210.0       305.0               95.0   \n",
       "1  Afghanistan  1971.0         NaN       210.0       305.0               95.0   \n",
       "2  Afghanistan  1971.0         NaN       210.0       305.0               95.0   \n",
       "3  Afghanistan  1971.0         NaN       210.0       305.0               95.0   \n",
       "4  Afghanistan  1971.0         NaN       210.0       305.0               95.0   \n",
       "\n",
       "       Region Income_group Question_Category  \\\n",
       "0  South Asia   Low income            Assets   \n",
       "1  South Asia   Low income            Assets   \n",
       "2  South Asia   Low income            Assets   \n",
       "3  South Asia   Low income            Assets   \n",
       "4  South Asia   Low income            Assets   \n",
       "\n",
       "                                            Question  Score_y  Rank  \\\n",
       "0  Do female and male surviving spouses have equa...      0.0  59.0   \n",
       "1  Do men and women have equal ownership rights t...     20.0  59.0   \n",
       "2  Do sons and daughters have equal rights to inh...      0.0  59.0   \n",
       "3  Does the law grant spouses equal administrativ...     20.0  59.0   \n",
       "4  Does the law provide for the valuation of nonm...      0.0  59.0   \n",
       "\n",
       "   1GB_Price_Usd  LifeExp  Population  GDP_Per_Cap  \n",
       "0           1.55      NaN         NaN          NaN  \n",
       "1           1.55      NaN         NaN          NaN  \n",
       "2           1.55      NaN         NaN          NaN  \n",
       "3           1.55      NaN         NaN          NaN  \n",
       "4           1.55      NaN         NaN          NaN  "
      ]
     },
     "execution_count": 74,
     "metadata": {},
     "output_type": "execute_result"
    }
   ],
   "source": [
    "# merged_df = merged_df.drop(columns=['Questions', 'Score_x'], axis=1).copy()\n",
    "# merged_df = merged_df.drop_duplicates().copy()\n",
    "# merged_df.query('Country_Name == \"Afghanistan\" and Year == 1971 and Question.str.contains(\"Do female and male surviving spouses\")', engine='python')\n",
    "merged_df.head()"
   ]
  },
  {
   "cell_type": "code",
   "execution_count": 68,
   "metadata": {},
   "outputs": [],
   "source": [
    "#export\n",
    "# df.to_csv(os.path.join(path, 'Clean_Data', 'Child_Leave_Qs_Clean.csv'))\n",
    "# df1.to_csv(os.path.join(path, 'Clean_Data', 'Fifty_Year_Change_Clean.csv'))\n",
    "# df2.to_csv(os.path.join(path, 'Clean_Data', 'All_Questions_Clean.csv'))\n",
    "# gdp_cleaned.to_csv(os.path.join(path, 'Clean_Data', 'GDP_Clean.csv'))\n",
    "# merged_df.to_csv(os.path.join(path, 'Clean_Data', '11_10_2023_WEI.csv'))"
   ]
  },
  {
   "cell_type": "code",
   "execution_count": 31,
   "metadata": {},
   "outputs": [
    {
     "name": "stdout",
     "output_type": "stream",
     "text": [
      "Women Empowerment Descriptive Statistics.\n",
      "Child_Leave_Qs_Clean.csv: \n",
      "               Year         Score\n",
      "count  28500.000000  28500.000000\n",
      "mean    1995.500000      4.702456\n",
      "std       14.431123      8.481660\n",
      "min     1971.000000      0.000000\n",
      "25%     1983.000000      0.000000\n",
      "50%     1995.500000      0.000000\n",
      "75%     2008.000000      0.000000\n",
      "max     2020.000000     20.000000\n"
     ]
    }
   ],
   "source": [
    "print(f'Women Empowerment Descriptive Statistics.\\n\\\n",
    "Child_Leave_Qs_Clean.csv: \\n\\\n",
    "{df.describe()}')"
   ]
  },
  {
   "cell_type": "code",
   "execution_count": null,
   "metadata": {},
   "outputs": [],
   "source": []
  },
  {
   "cell_type": "code",
   "execution_count": 37,
   "metadata": {},
   "outputs": [
    {
     "name": "stdout",
     "output_type": "stream",
     "text": [
      "Women Empowerment Descriptive Statistics.\n",
      "Fifty_Year_Change_Clean.csv: \n",
      "       Index_1971  Index_2020  Fifty_Year_Change\n",
      "count  190.000000  190.000000         190.000000\n",
      "mean   371.105263  601.842105         230.736842\n",
      "std    101.296304  138.505921         112.987260\n",
      "min    140.000000  210.000000           0.000000\n",
      "25%    296.250000  522.500000         155.000000\n",
      "50%    385.000000  630.000000         225.000000\n",
      "75%    443.750000  695.000000         298.750000\n",
      "max    570.000000  800.000000         540.000000\n"
     ]
    }
   ],
   "source": [
    "print(f'Women Empowerment Descriptive Statistics.\\n\\\n",
    "Fifty_Year_Change_Clean.csv: \\n\\\n",
    "{df1.describe()}')"
   ]
  },
  {
   "cell_type": "code",
   "execution_count": null,
   "metadata": {},
   "outputs": [],
   "source": []
  },
  {
   "cell_type": "code",
   "execution_count": null,
   "metadata": {},
   "outputs": [],
   "source": []
  },
  {
   "cell_type": "code",
   "execution_count": 35,
   "metadata": {},
   "outputs": [
    {
     "name": "stdout",
     "output_type": "stream",
     "text": [
      "Women Empowerment Descriptive Statistics.\n",
      "All_Questions_Clean.csv: \n",
      "                Year          Score\n",
      "count  332500.000000  332500.000000\n",
      "mean     1995.500000      13.511053\n",
      "std        14.430891      11.437948\n",
      "min      1971.000000       0.000000\n",
      "25%      1983.000000       0.000000\n",
      "50%      1995.500000      20.000000\n",
      "75%      2008.000000      25.000000\n",
      "max      2020.000000      25.000000\n"
     ]
    }
   ],
   "source": [
    "print(f'Women Empowerment Descriptive Statistics.\\n\\\n",
    "All_Questions_Clean.csv: \\n\\\n",
    "{df2.describe()}')"
   ]
  },
  {
   "cell_type": "code",
   "execution_count": null,
   "metadata": {},
   "outputs": [],
   "source": []
  },
  {
   "cell_type": "code",
   "execution_count": null,
   "metadata": {},
   "outputs": [],
   "source": []
  },
  {
   "cell_type": "code",
   "execution_count": 36,
   "metadata": {},
   "outputs": [
    {
     "name": "stdout",
     "output_type": "stream",
     "text": [
      "GDP Growth Descriptive Statistics.\n",
      "GDP_Clean.csv: \n",
      "               Year         Score\n",
      "count  28500.000000  28500.000000\n",
      "mean    1995.500000      4.702456\n",
      "std       14.431123      8.481660\n",
      "min     1971.000000      0.000000\n",
      "25%     1983.000000      0.000000\n",
      "50%     1995.500000      0.000000\n",
      "75%     2008.000000      0.000000\n",
      "max     2020.000000     20.000000\n"
     ]
    }
   ],
   "source": [
    "print(f'GDP Growth Descriptive Statistics.\\n\\\n",
    "GDP_Clean.csv: \\n\\\n",
    "{df.describe()}')"
   ]
  },
  {
   "cell_type": "code",
   "execution_count": null,
   "metadata": {},
   "outputs": [],
   "source": []
  },
  {
   "cell_type": "code",
   "execution_count": null,
   "metadata": {},
   "outputs": [],
   "source": []
  },
  {
   "cell_type": "code",
   "execution_count": null,
   "metadata": {},
   "outputs": [],
   "source": []
  },
  {
   "cell_type": "code",
   "execution_count": null,
   "metadata": {},
   "outputs": [],
   "source": []
  },
  {
   "cell_type": "code",
   "execution_count": null,
   "metadata": {},
   "outputs": [],
   "source": []
  }
 ],
 "metadata": {
  "kernelspec": {
   "display_name": "Python 3 (ipykernel)",
   "language": "python",
   "name": "python3"
  },
  "language_info": {
   "codemirror_mode": {
    "name": "ipython",
    "version": 3
   },
   "file_extension": ".py",
   "mimetype": "text/x-python",
   "name": "python",
   "nbconvert_exporter": "python",
   "pygments_lexer": "ipython3",
   "version": "3.9.13"
  }
 },
 "nbformat": 4,
 "nbformat_minor": 4
}
