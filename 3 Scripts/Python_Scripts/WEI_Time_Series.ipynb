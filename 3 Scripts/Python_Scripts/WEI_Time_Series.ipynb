{
 "cells": [
  {
   "cell_type": "code",
   "execution_count": 17,
   "id": "3bf84054-b859-45ae-8887-a3dbda65e85d",
   "metadata": {},
   "outputs": [
    {
     "name": "stdout",
     "output_type": "stream",
     "text": [
      "/Users/amritambe/Desktop/Analysis_Project/Women_Empowerment/2 Data/Clean_Data/GDP_Cleaned.csv\n",
      "/Users/amritambe/Desktop/Analysis_Project/Women_Empowerment/2 Data/Clean_Data/.DS_Store\n",
      "/Users/amritambe/Desktop/Analysis_Project/Women_Empowerment/2 Data/Clean_Data/WE_Index_Clean.csv\n",
      "/Users/amritambe/Desktop/Analysis_Project/Women_Empowerment/2 Data/Clean_Data/11_13_2023_WEI.csv\n",
      "/Users/amritambe/Desktop/Analysis_Project/Women_Empowerment/2 Data/Clean_Data/11_18_2023_WEI_CleanImputed.csv\n",
      "/Users/amritambe/Desktop/Analysis_Project/Women_Empowerment/2 Data/Clean_Data/Child_Leave_Qs_Clean.csv\n",
      "/Users/amritambe/Desktop/Analysis_Project/Women_Empowerment/2 Data/Clean_Data/Fifty_Year_Change_Clean.csv\n",
      "/Users/amritambe/Desktop/Analysis_Project/Women_Empowerment/2 Data/Clean_Data/GDP_Clean.csv\n",
      "/Users/amritambe/Desktop/Analysis_Project/Women_Empowerment/2 Data/Clean_Data/All_Questions_Clean.csv\n",
      "/Users/amritambe/Desktop/Analysis_Project/Women_Empowerment/2 Data/Clean_Data/11_10_2023_WEI.csv\n"
     ]
    }
   ],
   "source": [
    "import numpy as np \n",
    "import pandas as pd \n",
    "import seaborn as sns\n",
    "import matplotlib\n",
    "import matplotlib.pyplot as plt\n",
    "import sklearn\n",
    "from sklearn.metrics import mean_squared_error, r2_score, mean_absolute_percentage_error\n",
    "from sklearn.model_selection import GridSearchCV, train_test_split, TimeSeriesSplit\n",
    "from sklearn.preprocessing import LabelEncoder\n",
    "import xgboost as xgb\n",
    "import shap\n",
    "\n",
    "\n",
    "import os\n",
    "for dirname, _, filenames in os.walk('/Users/amritambe/Desktop/Analysis_Project/Women_Empowerment/2 Data/Clean_Data/'):\n",
    "    for filename in filenames:\n",
    "        print(os.path.join(dirname, filename))\n",
    "\n"
   ]
  },
  {
   "cell_type": "code",
   "execution_count": 18,
   "id": "4ea09254-cf4a-47f9-a28d-5e8c542861a1",
   "metadata": {},
   "outputs": [
    {
     "data": {
      "text/plain": [
       "['Country_Name',\n",
       " 'Year',\n",
       " 'GDP_Growth',\n",
       " 'Index_1971',\n",
       " 'Index_2020',\n",
       " 'Fifty_Year_Change',\n",
       " 'Region',\n",
       " 'Income_Group',\n",
       " 'Question_Category',\n",
       " 'Question',\n",
       " 'Index_Score',\n",
       " '2020_Data_Rank',\n",
       " '2020_1GB_Price(USD)',\n",
       " 'Life_Exp',\n",
       " 'Population',\n",
       " 'GDP_Per_Cap',\n",
       " 'Avg_WEI_Score']"
      ]
     },
     "execution_count": 18,
     "metadata": {},
     "output_type": "execute_result"
    }
   ],
   "source": [
    "df = pd.read_csv('/Users/amritambe/Desktop/Analysis_Project/Women_Empowerment/2 Data/Clean_Data/11_18_2023_WEI_CleanImputed.csv')\n",
    "df.drop(columns='Unnamed: 0', axis=1, inplace=True)\n",
    "df.columns.tolist()"
   ]
  },
  {
   "cell_type": "code",
   "execution_count": 42,
   "id": "2f81efbd-96db-43f7-b3fd-133159332d17",
   "metadata": {},
   "outputs": [
    {
     "data": {
      "text/plain": [
       "['Country_Name',\n",
       " 'Year',\n",
       " 'Region',\n",
       " 'Life_Exp',\n",
       " 'Population',\n",
       " 'GDP_Per_Cap',\n",
       " 'Avg_WEI_Score',\n",
       " 'Assets',\n",
       " 'Entrepreneurship',\n",
       " 'Marriage',\n",
       " 'Mobility',\n",
       " 'Parenthood',\n",
       " 'Pay',\n",
       " 'Pension',\n",
       " 'Workplace']"
      ]
     },
     "execution_count": 42,
     "metadata": {},
     "output_type": "execute_result"
    }
   ],
   "source": [
    "df_qc = df.groupby(['Country_Name', 'Year', \n",
    "                    'Question_Category', 'Region', \n",
    "                    'Life_Exp', 'Population', 'GDP_Per_Cap', 'Avg_WEI_Score'])['Index_Score'].agg('sum').reset_index()\n",
    "\n",
    "pivot_qc = df_qc.pivot_table(index=['Country_Name', 'Year', \n",
    "                                    'Region', 'Life_Exp', \n",
    "                                    'Population', 'GDP_Per_Cap', 'Avg_WEI_Score'],\n",
    "                             columns='Question_Category',\n",
    "                             values='Index_Score',\n",
    "                             aggfunc='sum').reset_index()\n",
    "pivot_qc.columns.tolist()"
   ]
  },
  {
   "cell_type": "code",
   "execution_count": 44,
   "id": "17273623-9782-4350-b10a-a7322ba98f4d",
   "metadata": {},
   "outputs": [
    {
     "name": "stdout",
     "output_type": "stream",
     "text": [
      "The best parameters found by GridSearch are:\n",
      "{'alpha': 0.15, 'early_stopping_rounds': 10, 'learning_rate': 0.15, 'max_depth': 8, 'n_estimators': 100}\n",
      "Best model mse: 13.6939\n",
      "    Best model r2: -0.5311\n",
      "    Best model mape: 0.2188\n"
     ]
    },
    {
     "name": "stderr",
     "output_type": "stream",
     "text": [
      "[14:41:44] WARNING: /Users/runner/work/xgboost/xgboost/src/c_api/c_api.cc:1240: Saving into deprecated binary model format, please consider using `json` or `ubj`. Model format will default to JSON in XGBoost 2.2 if not specified.\n"
     ]
    },
    {
     "name": "stdout",
     "output_type": "stream",
     "text": [
      "The best parameters found by GridSearch are:\n",
      "{'alpha': 0.15, 'early_stopping_rounds': 10, 'learning_rate': 0.15, 'max_depth': 8, 'n_estimators': 100}\n",
      "Best model mse: 16.2393\n",
      "    Best model r2: -0.2472\n",
      "    Best model mape: 0.3256\n"
     ]
    },
    {
     "name": "stderr",
     "output_type": "stream",
     "text": [
      "[14:41:45] WARNING: /Users/runner/work/xgboost/xgboost/src/c_api/c_api.cc:1240: Saving into deprecated binary model format, please consider using `json` or `ubj`. Model format will default to JSON in XGBoost 2.2 if not specified.\n"
     ]
    },
    {
     "name": "stdout",
     "output_type": "stream",
     "text": [
      "The best parameters found by GridSearch are:\n",
      "{'alpha': 0.15, 'early_stopping_rounds': 10, 'learning_rate': 0.15, 'max_depth': 8, 'n_estimators': 100}\n",
      "Best model mse: 9.6569\n",
      "    Best model r2: -0.0001\n",
      "    Best model mape: 0.2100\n"
     ]
    },
    {
     "name": "stderr",
     "output_type": "stream",
     "text": [
      "[14:41:45] WARNING: /Users/runner/work/xgboost/xgboost/src/c_api/c_api.cc:1240: Saving into deprecated binary model format, please consider using `json` or `ubj`. Model format will default to JSON in XGBoost 2.2 if not specified.\n"
     ]
    },
    {
     "name": "stdout",
     "output_type": "stream",
     "text": [
      "The best parameters found by GridSearch are:\n",
      "{'alpha': 0.15, 'early_stopping_rounds': 10, 'learning_rate': 0.15, 'max_depth': 8, 'n_estimators': 100}\n",
      "Best model mse: 9.7517\n",
      "    Best model r2: -0.0598\n",
      "    Best model mape: 0.2311\n"
     ]
    },
    {
     "name": "stderr",
     "output_type": "stream",
     "text": [
      "[14:41:46] WARNING: /Users/runner/work/xgboost/xgboost/src/c_api/c_api.cc:1240: Saving into deprecated binary model format, please consider using `json` or `ubj`. Model format will default to JSON in XGBoost 2.2 if not specified.\n"
     ]
    },
    {
     "name": "stdout",
     "output_type": "stream",
     "text": [
      "The best parameters found by GridSearch are:\n",
      "{'alpha': 0.15, 'early_stopping_rounds': 10, 'learning_rate': 0.15, 'max_depth': 8, 'n_estimators': 100}\n",
      "Best model mse: 19.8016\n",
      "    Best model r2: -0.4070\n",
      "    Best model mape: 0.3939\n"
     ]
    },
    {
     "name": "stderr",
     "output_type": "stream",
     "text": [
      "[14:41:46] WARNING: /Users/runner/work/xgboost/xgboost/src/c_api/c_api.cc:1240: Saving into deprecated binary model format, please consider using `json` or `ubj`. Model format will default to JSON in XGBoost 2.2 if not specified.\n"
     ]
    }
   ],
   "source": [
    "#organize data for modeling\n",
    "target = 'Avg_WEI_Score'\n",
    "\n",
    "\n",
    "X = pivot_qc[[ \n",
    " 'Year',\n",
    " 'Region',\n",
    " 'Life_Exp',\n",
    " 'Population',\n",
    " 'GDP_Per_Cap',\n",
    " # 'Avg_WEI_Score',\n",
    " 'Assets',\n",
    " 'Entrepreneurship',\n",
    " 'Marriage',\n",
    " 'Mobility',\n",
    " 'Parenthood',\n",
    " 'Pay',\n",
    " 'Pension',\n",
    " 'Workplace'\n",
    "]]\n",
    "\n",
    "y = pivot_qc[target]\n",
    "\n",
    "#One Hot Encode\n",
    "X = pd.get_dummies(X, columns=['Region'])\n",
    "\n",
    "#order by year for time series split\n",
    "X.sort_values(by='Year', inplace=True)\n",
    "\n",
    "#Time Series Split\n",
    "tscv = TimeSeriesSplit(n_splits=5, max_train_size=10)\n",
    "\n",
    "fold=0\n",
    "\n",
    "shap_values_list = []\n",
    "\n",
    "\n",
    "for i, (train_idx, test_idx) in enumerate(tscv.split(X)):\n",
    "    X_train, X_test = X.iloc[train_idx], X.iloc[test_idx]\n",
    "    y_train, y_test = y.iloc[train_idx], y.iloc[test_idx]\n",
    "    \n",
    "\n",
    "    #GridSearch   ####################################################### GRIDSEARCH ################################################\n",
    "    model = xgb.XGBRegressor()\n",
    "    \n",
    "    #implement gridsearch parameters\n",
    "    param_grid = {\n",
    "        'n_estimators':[100, 500],\n",
    "        'learning_rate':[.15, 0.1, 0.05],\n",
    "        'max_depth':[ 8, 10],\n",
    "        'alpha':[.15, .2],\n",
    "        'early_stopping_rounds':[10]\n",
    "    }\n",
    "    \n",
    "    #instantiate gridsearch cv\n",
    "    grid_search = GridSearchCV(estimator=model,\n",
    "                               param_grid=param_grid,\n",
    "                               scoring='neg_mean_squared_error',\n",
    "                               cv=5,\n",
    "                               n_jobs=-1 #setting n_jobs to -1 uses all processors\n",
    "                               )\n",
    "    \n",
    "    \n",
    "    #implement gridsearch\n",
    "    grid_search.fit(X_train, y_train, eval_set=[(X_test, y_test)], verbose=False)\n",
    "\n",
    "    #print results of best_params_\n",
    "    print(f'The best parameters found by GridSearch are:\\n{grid_search.best_params_}')\n",
    "    \n",
    "    \n",
    "    #define the best model with best_params_ ################################# EVALUATE MODEL ############################################\n",
    "    best_model = grid_search.best_estimator_\n",
    "    \n",
    "    #predictions\n",
    "    y_pred = best_model.predict(X_test)\n",
    "    \n",
    "    #scoring using y_test set and predictions\n",
    "    mse = mean_squared_error(y_test, y_pred)\n",
    "    r2 = r2_score(y_test, y_pred)\n",
    "    mape = mean_absolute_percentage_error(y_test, y_pred)\n",
    "    \n",
    "    print(f'Best model mse: {mse:.4f}\\n\\\n",
    "    Best model r2: {r2:.4f}\\n\\\n",
    "    Best model mape: {mape:.4f}')\n",
    "\n",
    "    #SHAP for feature importance and model interpretation ############################### SHAP VALUES ###################################  \n",
    "    explainer = shap.Explainer(best_model)\n",
    "    shap_values = explainer.shap_values(X_test)\n",
    "    shap_values_list.append(shap_values)\n",
    "\n",
    "    fold += 1\n",
    "\n",
    "# fig, axs = plt.subplots(5, 1, figsize=(10, 25))\n",
    "\n",
    "# for i, shap_value in enumerate(shap_values_list):\n",
    "#         #set axis\n",
    "#     ax = axs[i]\n",
    "#     ax.clear()\n",
    "#     ax.set_title(f'Shap summary {i + 1}')\n",
    "\n",
    "#     shap = shap.summary_plot(shap_value, X, show=False)\n",
    "#     ax.set(shap)\n",
    "\n",
    "\n",
    "# plt.text(-63000,20, f'XGBoost Model\\n\\nModel mse: {mse:.4f}\\nModel r2: {r2:.4f}\\nModel mape: {mape:.4f}', fontdict={'fontsize':16})\n",
    "# plt.text(-35000,20, f\"{target}:\\n{df[target].agg(['min', 'max', 'mean', 'std']).round(2).to_string(index=True)}\", fontdict={'fontsize':16})\n",
    "\n",
    "# plt.tight_layout()\n",
    "# plt.show()\n",
    "# shap_q_gdp_percap = plt.gcf()"
   ]
  },
  {
   "cell_type": "code",
   "execution_count": 48,
   "id": "dcf952b6-2368-44c0-b3fa-feeb0eef2c7a",
   "metadata": {},
   "outputs": [
    {
     "ename": "AttributeError",
     "evalue": "'list' object has no attribute 'describe'",
     "output_type": "error",
     "traceback": [
      "\u001b[0;31m---------------------------------------------------------------------------\u001b[0m",
      "\u001b[0;31mAttributeError\u001b[0m                            Traceback (most recent call last)",
      "\u001b[0;32m/var/folders/m6/w23b8n51639b85nmprhkx5x80000gn/T/ipykernel_960/3646091675.py\u001b[0m in \u001b[0;36m<module>\u001b[0;34m\u001b[0m\n\u001b[0;32m----> 1\u001b[0;31m \u001b[0mshap_values_list\u001b[0m\u001b[0;34m.\u001b[0m\u001b[0mdescribe\u001b[0m\u001b[0;34m(\u001b[0m\u001b[0;34m)\u001b[0m\u001b[0;34m\u001b[0m\u001b[0;34m\u001b[0m\u001b[0m\n\u001b[0m",
      "\u001b[0;31mAttributeError\u001b[0m: 'list' object has no attribute 'describe'"
     ]
    }
   ],
   "source": [
    "shap_values_list"
   ]
  },
  {
   "cell_type": "code",
   "execution_count": null,
   "id": "cc4f9276-0cdd-4429-99fc-308553f9f20d",
   "metadata": {},
   "outputs": [],
   "source": []
  }
 ],
 "metadata": {
  "kernelspec": {
   "display_name": "Python 3 (ipykernel)",
   "language": "python",
   "name": "python3"
  },
  "language_info": {
   "codemirror_mode": {
    "name": "ipython",
    "version": 3
   },
   "file_extension": ".py",
   "mimetype": "text/x-python",
   "name": "python",
   "nbconvert_exporter": "python",
   "pygments_lexer": "ipython3",
   "version": "3.9.13"
  }
 },
 "nbformat": 4,
 "nbformat_minor": 5
}
